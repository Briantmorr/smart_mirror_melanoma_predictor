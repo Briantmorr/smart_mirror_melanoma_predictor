{
 "cells": [
  {
   "cell_type": "code",
   "execution_count": 1,
   "metadata": {},
   "outputs": [],
   "source": [
    "import pandas as pd\n",
    "import numpy as np\n",
    "import matplotlib.pyplot as plt"
   ]
  },
  {
   "cell_type": "markdown",
   "metadata": {},
   "source": []
  },
  {
   "cell_type": "code",
   "execution_count": 19,
   "metadata": {},
   "outputs": [],
   "source": [
    "filename = 'ISIC_2020_Training_GroundTruth.csv'\n",
    "filepath = f'./data/{filename}'\n",
    "\n",
    "df = pd.read_csv(filepath)"
   ]
  },
  {
   "cell_type": "code",
   "execution_count": 20,
   "metadata": {},
   "outputs": [
    {
     "data": {
      "text/html": [
       "<div>\n",
       "<style scoped>\n",
       "    .dataframe tbody tr th:only-of-type {\n",
       "        vertical-align: middle;\n",
       "    }\n",
       "\n",
       "    .dataframe tbody tr th {\n",
       "        vertical-align: top;\n",
       "    }\n",
       "\n",
       "    .dataframe thead th {\n",
       "        text-align: right;\n",
       "    }\n",
       "</style>\n",
       "<table border=\"1\" class=\"dataframe\">\n",
       "  <thead>\n",
       "    <tr style=\"text-align: right;\">\n",
       "      <th></th>\n",
       "      <th>age_approx</th>\n",
       "      <th>target</th>\n",
       "    </tr>\n",
       "  </thead>\n",
       "  <tbody>\n",
       "    <tr>\n",
       "      <th>count</th>\n",
       "      <td>33058.000000</td>\n",
       "      <td>33126.000000</td>\n",
       "    </tr>\n",
       "    <tr>\n",
       "      <th>mean</th>\n",
       "      <td>48.870016</td>\n",
       "      <td>0.017630</td>\n",
       "    </tr>\n",
       "    <tr>\n",
       "      <th>std</th>\n",
       "      <td>14.380360</td>\n",
       "      <td>0.131603</td>\n",
       "    </tr>\n",
       "    <tr>\n",
       "      <th>min</th>\n",
       "      <td>0.000000</td>\n",
       "      <td>0.000000</td>\n",
       "    </tr>\n",
       "    <tr>\n",
       "      <th>25%</th>\n",
       "      <td>40.000000</td>\n",
       "      <td>0.000000</td>\n",
       "    </tr>\n",
       "    <tr>\n",
       "      <th>50%</th>\n",
       "      <td>50.000000</td>\n",
       "      <td>0.000000</td>\n",
       "    </tr>\n",
       "    <tr>\n",
       "      <th>75%</th>\n",
       "      <td>60.000000</td>\n",
       "      <td>0.000000</td>\n",
       "    </tr>\n",
       "    <tr>\n",
       "      <th>max</th>\n",
       "      <td>90.000000</td>\n",
       "      <td>1.000000</td>\n",
       "    </tr>\n",
       "  </tbody>\n",
       "</table>\n",
       "</div>"
      ],
      "text/plain": [
       "         age_approx        target\n",
       "count  33058.000000  33126.000000\n",
       "mean      48.870016      0.017630\n",
       "std       14.380360      0.131603\n",
       "min        0.000000      0.000000\n",
       "25%       40.000000      0.000000\n",
       "50%       50.000000      0.000000\n",
       "75%       60.000000      0.000000\n",
       "max       90.000000      1.000000"
      ]
     },
     "execution_count": 20,
     "metadata": {},
     "output_type": "execute_result"
    }
   ],
   "source": [
    "df.describe()"
   ]
  },
  {
   "cell_type": "code",
   "execution_count": 21,
   "metadata": {},
   "outputs": [
    {
     "data": {
      "text/plain": [
       "Index(['image_name', 'patient_id', 'sex', 'age_approx',\n",
       "       'anatom_site_general_challenge', 'diagnosis', 'benign_malignant',\n",
       "       'target'],\n",
       "      dtype='object')"
      ]
     },
     "execution_count": 21,
     "metadata": {},
     "output_type": "execute_result"
    }
   ],
   "source": [
    "df.columns"
   ]
  },
  {
   "cell_type": "code",
   "execution_count": 13,
   "metadata": {},
   "outputs": [
    {
     "data": {
      "text/html": [
       "<div>\n",
       "<style scoped>\n",
       "    .dataframe tbody tr th:only-of-type {\n",
       "        vertical-align: middle;\n",
       "    }\n",
       "\n",
       "    .dataframe tbody tr th {\n",
       "        vertical-align: top;\n",
       "    }\n",
       "\n",
       "    .dataframe thead th {\n",
       "        text-align: right;\n",
       "    }\n",
       "</style>\n",
       "<table border=\"1\" class=\"dataframe\">\n",
       "  <thead>\n",
       "    <tr style=\"text-align: right;\">\n",
       "      <th></th>\n",
       "      <th>image_name</th>\n",
       "      <th>patient_id</th>\n",
       "      <th>sex</th>\n",
       "      <th>age_approx</th>\n",
       "      <th>anatom_site_general_challenge</th>\n",
       "      <th>diagnosis</th>\n",
       "      <th>benign_malignant</th>\n",
       "      <th>target</th>\n",
       "    </tr>\n",
       "  </thead>\n",
       "  <tbody>\n",
       "    <tr>\n",
       "      <th>0</th>\n",
       "      <td>ISIC_2637011</td>\n",
       "      <td>IP_7279968</td>\n",
       "      <td>male</td>\n",
       "      <td>45.0</td>\n",
       "      <td>head/neck</td>\n",
       "      <td>unknown</td>\n",
       "      <td>benign</td>\n",
       "      <td>0</td>\n",
       "    </tr>\n",
       "    <tr>\n",
       "      <th>1</th>\n",
       "      <td>ISIC_0015719</td>\n",
       "      <td>IP_3075186</td>\n",
       "      <td>female</td>\n",
       "      <td>45.0</td>\n",
       "      <td>upper extremity</td>\n",
       "      <td>unknown</td>\n",
       "      <td>benign</td>\n",
       "      <td>0</td>\n",
       "    </tr>\n",
       "    <tr>\n",
       "      <th>2</th>\n",
       "      <td>ISIC_0052212</td>\n",
       "      <td>IP_2842074</td>\n",
       "      <td>female</td>\n",
       "      <td>50.0</td>\n",
       "      <td>lower extremity</td>\n",
       "      <td>nevus</td>\n",
       "      <td>benign</td>\n",
       "      <td>0</td>\n",
       "    </tr>\n",
       "    <tr>\n",
       "      <th>3</th>\n",
       "      <td>ISIC_0068279</td>\n",
       "      <td>IP_6890425</td>\n",
       "      <td>female</td>\n",
       "      <td>45.0</td>\n",
       "      <td>head/neck</td>\n",
       "      <td>unknown</td>\n",
       "      <td>benign</td>\n",
       "      <td>0</td>\n",
       "    </tr>\n",
       "    <tr>\n",
       "      <th>4</th>\n",
       "      <td>ISIC_0074268</td>\n",
       "      <td>IP_8723313</td>\n",
       "      <td>female</td>\n",
       "      <td>55.0</td>\n",
       "      <td>upper extremity</td>\n",
       "      <td>unknown</td>\n",
       "      <td>benign</td>\n",
       "      <td>0</td>\n",
       "    </tr>\n",
       "  </tbody>\n",
       "</table>\n",
       "</div>"
      ],
      "text/plain": [
       "     image_name  patient_id     sex  age_approx anatom_site_general_challenge  \\\n",
       "0  ISIC_2637011  IP_7279968    male        45.0                     head/neck   \n",
       "1  ISIC_0015719  IP_3075186  female        45.0               upper extremity   \n",
       "2  ISIC_0052212  IP_2842074  female        50.0               lower extremity   \n",
       "3  ISIC_0068279  IP_6890425  female        45.0                     head/neck   \n",
       "4  ISIC_0074268  IP_8723313  female        55.0               upper extremity   \n",
       "\n",
       "  diagnosis benign_malignant  target  \n",
       "0   unknown           benign       0  \n",
       "1   unknown           benign       0  \n",
       "2     nevus           benign       0  \n",
       "3   unknown           benign       0  \n",
       "4   unknown           benign       0  "
      ]
     },
     "execution_count": 13,
     "metadata": {},
     "output_type": "execute_result"
    }
   ],
   "source": [
    "df.head()"
   ]
  },
  {
   "cell_type": "code",
   "execution_count": 22,
   "metadata": {},
   "outputs": [
    {
     "name": "stdout",
     "output_type": "stream",
     "text": [
      " unique patients: 2056\n"
     ]
    }
   ],
   "source": [
    "print(f\" unique patients: {df['patient_id'].nunique()}\")"
   ]
  },
  {
   "cell_type": "code",
   "execution_count": 23,
   "metadata": {},
   "outputs": [
    {
     "name": "stdout",
     "output_type": "stream",
     "text": [
      "3494\n"
     ]
    }
   ],
   "source": [
    "df_grouped_2 = df.groupby(['patient_id', 'age_approx']).count()\n",
    "print(len(df_grouped_2))"
   ]
  },
  {
   "cell_type": "code",
   "execution_count": 24,
   "metadata": {},
   "outputs": [
    {
     "name": "stdout",
     "output_type": "stream",
     "text": [
      "Number of unique patients with records across multiple ages: 997\n"
     ]
    }
   ],
   "source": [
    "# Group by 'patient_id' and 'age_approx', and count the number of records for each group\n",
    "df_grouped = df.groupby(['patient_id', 'age_approx']).size().reset_index(name='counts')\n",
    "\n",
    "# Now, group by 'patient_id' alone to count the number of unique age_approx entries per patient\n",
    "df_grouped_by_patient = df_grouped.groupby('patient_id').size()\n",
    "\n",
    "# Filter out patients who have records for only one age_approx\n",
    "patients_multiple_ages = df_grouped_by_patient[df_grouped_by_patient > 1].index\n",
    "\n",
    "# Use this filtered list of patient_ids to filter the original DataFrame\n",
    "df_filtered = df[df['patient_id'].isin(patients_multiple_ages)]\n",
    "\n",
    "# If you want to know the number of unique patients who have records across multiple ages\n",
    "unique_patients_multiple_ages = len(df_filtered['patient_id'].unique())\n",
    "\n",
    "print(f\"Number of unique patients with records across multiple ages: {unique_patients_multiple_ages}\")"
   ]
  },
  {
   "cell_type": "code",
   "execution_count": 12,
   "metadata": {},
   "outputs": [
    {
     "data": {
      "image/png": "[encoded data removed]",
      "text/plain": [
       "<Figure size 1000x600 with 1 Axes>"
      ]
     },
     "metadata": {},
     "output_type": "display_data"
    },
    {
     "name": "stdout",
     "output_type": "stream",
     "text": [
      "Number of patients with records for 2 or more unique years: 997\n"
     ]
    }
   ],
   "source": [
    "# Group by 'patient_id' and 'age_approx', then count unique ages per patient\n",
    "df_unique_ages_per_patient = df.groupby('patient_id')['age_approx'].nunique().reset_index(name='unique_years')\n",
    "\n",
    "# Distribution of unique years per patient\n",
    "plt.figure(figsize=(10, 6))\n",
    "plt.hist(df_unique_ages_per_patient['unique_years'], bins=range(1, df_unique_ages_per_patient['unique_years'].max() + 1), align='left')\n",
    "plt.title('Distribution of Number of Unique Years per Patient')\n",
    "plt.xlabel('Number of Unique Years')\n",
    "plt.ylabel('Number of Patients')\n",
    "plt.xticks(range(1, df_unique_ages_per_patient['unique_years'].max() + 1))\n",
    "plt.grid(axis='y')\n",
    "plt.show()\n",
    "\n",
    "# Count how many patients have records for 2 or more unique years\n",
    "patients_with_2_or_more_years = df_unique_ages_per_patient[df_unique_ages_per_patient['unique_years'] > 1].shape[0]\n",
    "\n",
    "print(f\"Number of patients with records for 2 or more unique years: {patients_with_2_or_more_years}\")\n"
   ]
  },
  {
   "cell_type": "code",
   "execution_count": 18,
   "metadata": {},
   "outputs": [
    {
     "name": "stdout",
     "output_type": "stream",
     "text": [
      "Number of unique patients with moles changing from benign to malignant at the same anatomical site: 216\n"
     ]
    }
   ],
   "source": [
    "# Filter for patients with multiple years of data first\n",
    "patients_with_multiple_years = df.groupby('patient_id')['age_approx'].nunique()\n",
    "patients_with_multiple_years = patients_with_multiple_years[patients_with_multiple_years > 1].index\n",
    "df_filtered = df[df['patient_id'].isin(patients_with_multiple_years)]\n",
    "\n",
    "# Initialize a list to hold patients with changes from benign to malignant at the same site\n",
    "patients_with_changes_same_site = []\n",
    "\n",
    "# Iterate over each patient to check their records\n",
    "for patient_id in patients_with_multiple_years:\n",
    "    patient_records = df_filtered[df_filtered['patient_id'] == patient_id]\n",
    "    \n",
    "    # We need to check each anatomical site separately for this patient\n",
    "    for site in patient_records['anatom_site_general_challenge'].unique():\n",
    "        site_records = patient_records[patient_records['anatom_site_general_challenge'] == site]\n",
    "        \n",
    "        # Now check if there are both benign and malignant diagnoses at this site\n",
    "        if 'benign' in site_records['benign_malignant'].values and 'malignant' in site_records['benign_malignant'].values:\n",
    "            patients_with_changes_same_site.append((patient_id, site))\n",
    "\n",
    "# Calculate the unique number of patients (since one patient could have multiple sites)\n",
    "unique_patients_with_changes = len(set([patient for patient, site in patients_with_changes_same_site]))\n",
    "\n",
    "print(f\"Number of unique patients with moles changing from benign to malignant at the same anatomical site: {unique_patients_with_changes}\")\n"
   ]
  },
  {
   "cell_type": "code",
   "execution_count": null,
   "metadata": {},
   "outputs": [],
   "source": []
  }
 ],
 "metadata": {
  "kernelspec": {
   "display_name": "Python 3 (ipykernel)",
   "language": "python",
   "name": "python3"
  },
  "language_info": {
   "codemirror_mode": {
    "name": "ipython",
    "version": 3
   },
   "file_extension": ".py",
   "mimetype": "text/x-python",
   "name": "python",
   "nbconvert_exporter": "python",
   "pygments_lexer": "ipython3",
   "version": "3.11.4"
  }
 },
 "nbformat": 4,
 "nbformat_minor": 2
}
